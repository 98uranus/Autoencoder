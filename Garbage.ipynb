{
 "cells": [
  {
   "cell_type": "code",
   "execution_count": 100,
   "metadata": {},
   "outputs": [
    {
     "name": "stdout",
     "output_type": "stream",
     "text": [
      "[0, 1, 2]\n",
      "[10.0, 10.4, 10.8, 11.200000000000001, 11.600000000000001, 12.000000000000002, 12.400000000000002, 12.800000000000002] 8\n"
     ]
    }
   ],
   "source": [
    "a = list(range(3))\n",
    "print(a)\n",
    "import numpy as np\n",
    "b = list(np.arange(10, 13, 0.4))\n",
    "print(b, len(b))"
   ]
  },
  {
   "cell_type": "code",
   "execution_count": 9,
   "metadata": {},
   "outputs": [
    {
     "name": "stdout",
     "output_type": "stream",
     "text": [
      "{'precision': [], 'recall': [], 'f1': [], 'conf_matix': []}\n"
     ]
    }
   ],
   "source": [
    "\n",
    "def test(k, g):\n",
    "    for i in list(range(3)):\n",
    "        df = {}\n",
    "        dic = {}\n",
    "        for i in g:\n",
    "            for j in k:    \n",
    "                dic1 = {'fpr': [], 'tpr': [], 'roc_auc': []}\n",
    "                dic2 = {'precision': [], 'recall': [], 'f1': [], 'conf_matix': []}\n",
    "                dic[j] = [dic1, dic2]\n",
    "            df[i] = [dic]\n",
    "            \n",
    "    return df\n",
    "    \n",
    "g = ['a', 'b', 'c']\n",
    "k = [1, 2, 3]\n",
    "df= test(k, g)\n",
    "# print(df)\n",
    "# print(df[g[0]])\n",
    "# print(df[g[0]][0])\n",
    "# print(df[g[0]][0][k[0]][0])\n",
    "# print(dic[k[0]][0]['fpr'])\n",
    "\n",
    "\n",
    "def test2(g):\n",
    "    for i in list(range(3)):\n",
    "        df = {}\n",
    "        for i in g:  \n",
    "            dic1 = {'fpr': [], 'tpr': [], 'roc_auc': []}\n",
    "            dic2 = {'precision': [], 'recall': [], 'f1': [], 'conf_matix': []}\n",
    "            df[i] = [dic1, dic2]\n",
    "            \n",
    "    return df\n",
    "    \n",
    "g = ['a', 'b', 'c']\n",
    "k = [1, 2, 3]\n",
    "df= test2(g)\n",
    "# print(df)\n",
    "# print(df[g[0]])\n",
    "print(df[g[0]][1])"
   ]
  },
  {
   "cell_type": "code",
   "execution_count": 17,
   "metadata": {},
   "outputs": [
    {
     "name": "stdout",
     "output_type": "stream",
     "text": [
      "AE_{2}\n"
     ]
    }
   ],
   "source": [
    "print('AE_{2}')"
   ]
  },
  {
   "cell_type": "code",
   "execution_count": null,
   "metadata": {},
   "outputs": [],
   "source": []
  }
 ],
 "metadata": {
  "kernelspec": {
   "display_name": "Python 3",
   "language": "python",
   "name": "python3"
  },
  "language_info": {
   "codemirror_mode": {
    "name": "ipython",
    "version": 3
   },
   "file_extension": ".py",
   "mimetype": "text/x-python",
   "name": "python",
   "nbconvert_exporter": "python",
   "pygments_lexer": "ipython3",
   "version": "3.8.10"
  },
  "orig_nbformat": 4,
  "vscode": {
   "interpreter": {
    "hash": "9e41bc5f122b048a99c7a6865a6ec8c6796f375702dcb3aa78e2f10af5131441"
   }
  }
 },
 "nbformat": 4,
 "nbformat_minor": 2
}
