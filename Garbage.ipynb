{
 "cells": [
  {
   "cell_type": "code",
   "execution_count": 30,
   "metadata": {},
   "outputs": [
    {
     "name": "stdout",
     "output_type": "stream",
     "text": [
      "[1, 2, 3]\n"
     ]
    }
   ],
   "source": [
    "a = list(range(1, 4, 1))\n",
    "print(a)"
   ]
  },
  {
   "cell_type": "code",
   "execution_count": 57,
   "metadata": {},
   "outputs": [
    {
     "name": "stdout",
     "output_type": "stream",
     "text": [
      "{2: [{'fpr': [], 'tpr': [], 'roc_auc': []}, {'precision': [], 'recall': [], 'f1': [], 'conf_matix': []}], 3: [{'fpr': [], 'tpr': [], 'roc_auc': []}, {'precision': [], 'recall': [], 'f1': [], 'conf_matix': []}]}\n"
     ]
    }
   ],
   "source": [
    "\n",
    "def test(k):\n",
    "    for i in list(range(3)):\n",
    "        dic1 = {'fpr': [], 'tpr': [], 'roc_auc': []}\n",
    "        dic2 = {'precision': [], 'recall': [], 'f1': [], 'conf_matix': []}\n",
    "        dic = {}\n",
    "        dic[i] = [dic1, dic2]\n",
    "        # dic[k[1]] = [dic1, dic2]\n",
    "        # dic[k[2]] = [dic1, dic2]\n",
    "    return dic\n",
    "    \n",
    "k = [1, 2, 3]\n",
    "dic= test(k)\n",
    "print(dic)\n",
    "# print(dic[k[0]][0]['fpr'])\n",
    "\n",
    " "
   ]
  },
  {
   "cell_type": "code",
   "execution_count": null,
   "metadata": {},
   "outputs": [],
   "source": []
  }
 ],
 "metadata": {
  "kernelspec": {
   "display_name": "tensorflow-dev",
   "language": "python",
   "name": "python3"
  },
  "language_info": {
   "codemirror_mode": {
    "name": "ipython",
    "version": 3
   },
   "file_extension": ".py",
   "mimetype": "text/x-python",
   "name": "python",
   "nbconvert_exporter": "python",
   "pygments_lexer": "ipython3",
   "version": "3.8.13"
  },
  "orig_nbformat": 4,
  "vscode": {
   "interpreter": {
    "hash": "fbe8294542bfef95dc4c1617ea160a86e04009fef3feaf3f675181605b6be6e1"
   }
  }
 },
 "nbformat": 4,
 "nbformat_minor": 2
}
