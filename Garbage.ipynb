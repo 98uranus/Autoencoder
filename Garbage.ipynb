{
 "cells": [
  {
   "cell_type": "code",
   "execution_count": 100,
   "metadata": {},
   "outputs": [
    {
     "name": "stdout",
     "output_type": "stream",
     "text": [
      "[0, 1, 2]\n",
      "[10.0, 10.4, 10.8, 11.200000000000001, 11.600000000000001, 12.000000000000002, 12.400000000000002, 12.800000000000002] 8\n"
     ]
    }
   ],
   "source": [
    "a = list(range(3))\n",
    "print(a)\n",
    "import numpy as np\n",
    "b = list(np.arange(10, 13, 0.4))\n",
    "print(b, len(b))"
   ]
  },
  {
   "cell_type": "code",
   "execution_count": 9,
   "metadata": {},
   "outputs": [
    {
     "name": "stdout",
     "output_type": "stream",
     "text": [
      "{'precision': [], 'recall': [], 'f1': [], 'conf_matix': []}\n"
     ]
    }
   ],
   "source": [
    "\n",
    "def test(k, g):\n",
    "    for i in list(range(3)):\n",
    "        df = {}\n",
    "        dic = {}\n",
    "        for i in g:\n",
    "            for j in k:    \n",
    "                dic1 = {'fpr': [], 'tpr': [], 'roc_auc': []}\n",
    "                dic2 = {'precision': [], 'recall': [], 'f1': [], 'conf_matix': []}\n",
    "                dic[j] = [dic1, dic2]\n",
    "            df[i] = [dic]\n",
    "            \n",
    "    return df\n",
    "    \n",
    "g = ['a', 'b', 'c']\n",
    "k = [1, 2, 3]\n",
    "df= test(k, g)\n",
    "# print(df)\n",
    "# print(df[g[0]])\n",
    "# print(df[g[0]][0])\n",
    "# print(df[g[0]][0][k[0]][0])\n",
    "# print(dic[k[0]][0]['fpr'])\n",
    "\n",
    "\n",
    "def test2(g):\n",
    "    for i in list(range(3)):\n",
    "        df = {}\n",
    "        for i in g:  \n",
    "            dic1 = {'fpr': [], 'tpr': [], 'roc_auc': []}\n",
    "            dic2 = {'precision': [], 'recall': [], 'f1': [], 'conf_matix': []}\n",
    "            df[i] = [dic1, dic2]\n",
    "            \n",
    "    return df\n",
    "    \n",
    "g = ['a', 'b', 'c']\n",
    "k = [1, 2, 3]\n",
    "df= test2(g)\n",
    "# print(df)\n",
    "# print(df[g[0]])\n",
    "print(df[g[0]][1])"
   ]
  },
  {
   "cell_type": "code",
   "execution_count": 17,
   "metadata": {},
   "outputs": [
    {
     "name": "stdout",
     "output_type": "stream",
     "text": [
      "AE_{2}\n"
     ]
    }
   ],
   "source": [
    "print('AE_{2}')"
   ]
  },
  {
   "cell_type": "code",
   "execution_count": 2,
   "metadata": {},
   "outputs": [],
   "source": [
    "from sklearn.mixture import GaussianMixture\n",
    "from sklearn.metrics import precision_score, recall_score, f1_score, auc\n",
    "from sklearn.model_selection import train_test_split\n",
    "from keras import layers, Model\n",
    "from keras.models import Sequential, load_model\n",
    "import numpy as np\n",
    "import matplotlib.pyplot as plt\n",
    "from keras.callbacks import EarlyStopping\n",
    "from keras import regularizers, layers, losses\n",
    "from keras.callbacks import ModelCheckpoint, TensorBoard\n",
    "from sklearn.metrics import precision_recall_curve, confusion_matrix, roc_curve, PrecisionRecallDisplay\n",
    "from keras.utils import plot_model\n",
    "import pandas as pd\n",
    "import seaborn as sns\n",
    "import joblib"
   ]
  },
  {
   "cell_type": "code",
   "execution_count": 40,
   "metadata": {},
   "outputs": [
    {
     "name": "stdout",
     "output_type": "stream",
     "text": [
      "(40000, 14)\n"
     ]
    },
    {
     "data": {
      "image/png": "[encoded data removed]",
      "text/plain": [
       "<Figure size 432x288 with 1 Axes>"
      ]
     },
     "metadata": {},
     "output_type": "display_data"
    }
   ],
   "source": [
    "# Generate some sample data for the autoencoder\n",
    "# x_train = np.random.rand(1000, 12)\n",
    "# x_test = np.random.rand(100, 12)\n",
    "\n",
    "sns.set(style='whitegrid', palette='muted', font_scale=1.5)\n",
    "\n",
    "RANDOM_SEED = 42\n",
    "\n",
    "df = pd.read_csv(\"Autoencoder_wind.csv\")  \n",
    "print(df.shape)\n",
    "\n",
    "LABELS = [\"Normal\", \"Abnormal\"]\n",
    "\n",
    "count_classes =pd.value_counts(df['Class'], sort = True)\n",
    "count_classes.plot(kind = 'bar', rot=0)\n",
    "plt.title(\"Data Class distribution\")\n",
    "plt.xticks(range(2), LABELS)\n",
    "plt.xlabel(\"Class\")\n",
    "plt.ylabel(\"Data\")\n",
    "plt.show();\n",
    "\n",
    "from sklearn.preprocessing import StandardScaler, MinMaxScaler\n",
    "from cmath import pi\n",
    "\n",
    "data = df.drop(['Time'], axis=1)\n",
    "y_true = df['Class']\n",
    "\n",
    "r2d = 180/pi\n",
    "\n",
    "data['P'] = r2d * data['P']\n",
    "data['Q'] = r2d * data['Q']\n",
    "data['R'] = r2d * data['R']\n",
    "data['Phi'] = r2d * data['Phi']\n",
    "data['Theta'] = r2d * data['Theta']\n",
    "data['Psi'] = r2d * data['Psi']"
   ]
  },
  {
   "cell_type": "code",
   "execution_count": 41,
   "metadata": {},
   "outputs": [
    {
     "name": "stdout",
     "output_type": "stream",
     "text": [
      "10337    5847.217139\n",
      "38482    5802.351189\n",
      "26257    5871.970767\n",
      "18140    5908.172948\n",
      "28383    6291.051561\n",
      "            ...     \n",
      "8747     6295.560727\n",
      "4119     6209.364582\n",
      "36289    6261.966048\n",
      "13452    6101.435089\n",
      "39552    5898.782775\n",
      "Name: RPM1, Length: 17748, dtype: float64\n"
     ]
    }
   ],
   "source": [
    "X_train, X_test = train_test_split(data, test_size=0.5, random_state=RANDOM_SEED)\n",
    "X_train = X_train[X_train.Class == 0]\n",
    "y_train = X_train['Class']\n",
    "X_train = pd.DataFrame(X_train)\n",
    "X_train = X_train.drop(['Class'], axis=1)\n",
    "\n",
    "# X_test = X_test[X_test.Class == 0]\n",
    "y_test = X_test['Class']\n",
    "X_test = pd.DataFrame(X_test)\n",
    "X_test = X_test.drop(['Class'], axis=1)\n",
    "\n",
    "def normalize(label):\n",
    "    str = StandardScaler()\n",
    "    str.fit(X_train[label].values.reshape(-1, 1))\n",
    "    X_train[label] = str.transform(X_train[label].values.reshape(-1, 1))\n",
    "    X_test[label] = str.transform(X_test[label].values.reshape(-1, 1))\n",
    "\n",
    "def normalize1(label):\n",
    "    str = MinMaxScaler()\n",
    "    str.fit(X_train[label].values.reshape(-1, 1))\n",
    "    X_train[label] = str.transform(X_train[label].values.reshape(-1, 1))\n",
    "    X_test[label] = str.transform(X_test[label].values.reshape(-1, 1))\n",
    "\n",
    "A = ['RPM1', 'RPM2', 'RPM3', 'RPM4', 'RPM5', 'RPM6', 'P', 'Q', 'R', 'Phi', 'Theta', 'Psi']\n",
    "\n",
    "# print(X_train['RPM1'])\n",
    "\n",
    "data = X_train['RPM1']\n",
    "print(data)\n",
    "x_min = min(X_train['RPM1'])\n",
    "x_max = max(X_train['RPM1'])\n",
    "# print(x_min, x_max)\n",
    "# for i in X_train['RPM1'].shape[0]:\n",
    "#     i\n",
    "\n",
    "X_train = X_train.values\n",
    "X_test = X_test.values\n",
    "\n",
    "# print(X_train[0].shape)\n",
    "# print(X_train[0])\n",
    "# print(X_test[0])"
   ]
  },
  {
   "cell_type": "code",
   "execution_count": null,
   "metadata": {},
   "outputs": [],
   "source": []
  }
 ],
 "metadata": {
  "kernelspec": {
   "display_name": "Python 3",
   "language": "python",
   "name": "python3"
  },
  "language_info": {
   "codemirror_mode": {
    "name": "ipython",
    "version": 3
   },
   "file_extension": ".py",
   "mimetype": "text/x-python",
   "name": "python",
   "nbconvert_exporter": "python",
   "pygments_lexer": "ipython3",
   "version": "3.8.10"
  },
  "orig_nbformat": 4,
  "vscode": {
   "interpreter": {
    "hash": "9e41bc5f122b048a99c7a6865a6ec8c6796f375702dcb3aa78e2f10af5131441"
   }
  }
 },
 "nbformat": 4,
 "nbformat_minor": 2
}
