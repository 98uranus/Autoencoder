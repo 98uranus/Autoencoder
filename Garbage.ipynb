{
 "cells": [
  {
   "cell_type": "code",
   "execution_count": 61,
   "metadata": {},
   "outputs": [
    {
     "name": "stdout",
     "output_type": "stream",
     "text": [
      "[0, 1, 2]\n",
      "3\n"
     ]
    }
   ],
   "source": [
    "a = list(range(3))\n",
    "print(a)\n",
    "import numpy as np\n",
    "print(len(a))"
   ]
  },
  {
   "cell_type": "code",
   "execution_count": 93,
   "metadata": {},
   "outputs": [
    {
     "name": "stdout",
     "output_type": "stream",
     "text": [
      "{'a': [{1: [{'fpr': [], 'tpr': [], 'roc_auc': []}, {'precision': [], 'recall': [], 'f1': [], 'conf_matix': []}], 2: [{'fpr': [], 'tpr': [], 'roc_auc': []}, {'precision': [], 'recall': [], 'f1': [], 'conf_matix': []}], 3: [{'fpr': [], 'tpr': [], 'roc_auc': []}, {'precision': [], 'recall': [], 'f1': [], 'conf_matix': []}]}], 'b': [{1: [{'fpr': [], 'tpr': [], 'roc_auc': []}, {'precision': [], 'recall': [], 'f1': [], 'conf_matix': []}], 2: [{'fpr': [], 'tpr': [], 'roc_auc': []}, {'precision': [], 'recall': [], 'f1': [], 'conf_matix': []}], 3: [{'fpr': [], 'tpr': [], 'roc_auc': []}, {'precision': [], 'recall': [], 'f1': [], 'conf_matix': []}]}], 'c': [{1: [{'fpr': [], 'tpr': [], 'roc_auc': []}, {'precision': [], 'recall': [], 'f1': [], 'conf_matix': []}], 2: [{'fpr': [], 'tpr': [], 'roc_auc': []}, {'precision': [], 'recall': [], 'f1': [], 'conf_matix': []}], 3: [{'fpr': [], 'tpr': [], 'roc_auc': []}, {'precision': [], 'recall': [], 'f1': [], 'conf_matix': []}]}]}\n"
     ]
    }
   ],
   "source": [
    "\n",
    "def test(k, g):\n",
    "    for i in list(range(3)):\n",
    "        df = {}\n",
    "        dic = {}\n",
    "        for i in g:\n",
    "            for j in k:    \n",
    "                dic1 = {'fpr': [], 'tpr': [], 'roc_auc': []}\n",
    "                dic2 = {'precision': [], 'recall': [], 'f1': [], 'conf_matix': []}\n",
    "                dic[j] = [dic1, dic2]\n",
    "            df[i] = [dic]\n",
    "            \n",
    "    return df\n",
    "    \n",
    "g = ['a', 'b', 'c']\n",
    "k = [1, 2, 3]\n",
    "df= test(k, g)\n",
    "print(df)\n",
    "# print(df[g[0]][0][k[0]][0])\n",
    "# print(dic[k[0]][0]['fpr'])\n",
    "\n",
    " "
   ]
  },
  {
   "cell_type": "code",
   "execution_count": null,
   "metadata": {},
   "outputs": [],
   "source": []
  }
 ],
 "metadata": {
  "kernelspec": {
   "display_name": "Python 3",
   "language": "python",
   "name": "python3"
  },
  "language_info": {
   "codemirror_mode": {
    "name": "ipython",
    "version": 3
   },
   "file_extension": ".py",
   "mimetype": "text/x-python",
   "name": "python",
   "nbconvert_exporter": "python",
   "pygments_lexer": "ipython3",
   "version": "3.8.10"
  },
  "orig_nbformat": 4,
  "vscode": {
   "interpreter": {
    "hash": "9e41bc5f122b048a99c7a6865a6ec8c6796f375702dcb3aa78e2f10af5131441"
   }
  }
 },
 "nbformat": 4,
 "nbformat_minor": 2
}
